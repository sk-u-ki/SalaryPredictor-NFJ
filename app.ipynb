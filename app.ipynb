{
 "cells": [
  {
   "cell_type": "code",
   "execution_count": 62,
   "metadata": {},
   "outputs": [],
   "source": [
    "from selenium import webdriver\n",
    "from selenium.webdriver.chrome.service import Service\n",
    "from selenium.webdriver.common.by import By\n",
    "from webdriver_manager.chrome import ChromeDriverManager\n",
    "from selenium.webdriver.common.keys import Keys\n",
    "from selenium.webdriver.common.action_chains import ActionChains\n",
    "from selenium.webdriver.support.ui import WebDriverWait\n",
    "from selenium.webdriver.support import expected_conditions as EC\n",
    "import time\n",
    "import pandas as pd\n",
    "\n",
    "service = Service(\"/Users/kirill/Desktop/Study/Project_12.01.24/no_fluff_crawler/chromedriver-mac-x64/chromedriver\") \n",
    "driver = webdriver.Chrome(service=service)\n",
    "driver.get(\"https://nofluffjobs.com/pl/\")\n",
    "## ---------------------------------------------------\n",
    "while True:\n",
    "    try:\n",
    "        cookie_button = driver.find_element(By.XPATH, '/html/body/div[2]/div[2]/div/div[1]/div/div[2]/div/button[3]')  # Replace with actual Xpath\n",
    "        ActionChains(driver).move_to_element(cookie_button).click().perform()\n",
    "        break\n",
    "    except:\n",
    "        continue\n",
    "while True:\n",
    "    try:\n",
    "        next_button = driver.find_element(By.XPATH, '/html/body/nfj-root/nfj-layout/nfj-main-content/div/nfj-postings-search/div/div[3]/div/div/common-main-loader/div/div/nfj-homepage-listings/div[2]/button')  # Replace with actual selector\n",
    "        time.sleep(3)                                \n",
    "        ActionChains(driver).move_to_element(next_button).click().perform()\n",
    "        time.sleep(3)\n",
    "    except:\n",
    "        break\n",
    "products = WebDriverWait(driver, 10).until(\n",
    "    EC.presence_of_all_elements_located((By.CLASS_NAME, 'posting-image')) #<---- Replace with actual class name\n",
    ")\n",
    "driver.quit()"
   ]
  }
 ],
 "metadata": {
  "kernelspec": {
   "display_name": "Python 3",
   "language": "python",
   "name": "python3"
  },
  "language_info": {
   "codemirror_mode": {
    "name": "ipython",
    "version": 3
   },
   "file_extension": ".py",
   "mimetype": "text/x-python",
   "name": "python",
   "nbconvert_exporter": "python",
   "pygments_lexer": "ipython3",
   "version": "3.12.4"
  }
 },
 "nbformat": 4,
 "nbformat_minor": 2
}
